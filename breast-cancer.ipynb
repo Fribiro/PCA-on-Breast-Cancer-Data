{
 "cells": [
  {
   "cell_type": "raw",
   "id": "982d9eb2",
   "metadata": {
    "papermill": {
     "duration": 0.010423,
     "end_time": "2024-04-03T05:31:19.281293",
     "exception": false,
     "start_time": "2024-04-03T05:31:19.270870",
     "status": "completed"
    },
    "tags": []
   },
   "source": []
  },
  {
   "cell_type": "code",
   "execution_count": 1,
   "id": "e0cf8a30",
   "metadata": {
    "_cell_guid": "b1076dfc-b9ad-4769-8c92-a6c4dae69d19",
    "_uuid": "8f2839f25d086af736a60e9eeb907d3b93b6e0e5",
    "execution": {
     "iopub.execute_input": "2024-04-03T05:31:19.303132Z",
     "iopub.status.busy": "2024-04-03T05:31:19.302731Z",
     "iopub.status.idle": "2024-04-03T05:31:24.724572Z",
     "shell.execute_reply": "2024-04-03T05:31:24.722764Z"
    },
    "papermill": {
     "duration": 5.436839,
     "end_time": "2024-04-03T05:31:24.728190",
     "exception": false,
     "start_time": "2024-04-03T05:31:19.291351",
     "status": "completed"
    },
    "tags": []
   },
   "outputs": [
    {
     "name": "stdout",
     "output_type": "stream",
     "text": [
      "/kaggle/input/breast-cancer-wisconsin-data/data.csv\n"
     ]
    }
   ],
   "source": [
    "# This Python 3 environment comes with many helpful analytics libraries installed\n",
    "# It is defined by the kaggle/python Docker image: https://github.com/kaggle/docker-python\n",
    "# For example, here's several helpful packages to load\n",
    "\n",
    "import numpy as np # linear algebra\n",
    "import pandas as pd # data processing, CSV file I/O (e.g. pd.read_csv)\n",
    "import matplotlib.pyplot as plt\n",
    "import seaborn as sns\n",
    "from sklearn.decomposition import PCA\n",
    "from sklearn.metrics import accuracy_score, roc_auc_score, confusion_matrix, classification_report, RocCurveDisplay\n",
    "from sklearn.model_selection import train_test_split, cross_validate\n",
    "from sklearn.linear_model import LogisticRegression\n",
    "from sklearn.preprocessing import LabelEncoder\n",
    "from sklearn.preprocessing import RobustScaler\n",
    "from sklearn.model_selection import GridSearchCV, cross_validate\n",
    "from sklearn.model_selection import cross_val_score, GridSearchCV\n",
    "from sklearn.ensemble import RandomForestClassifier\n",
    "from lightgbm import LGBMClassifier\n",
    "from catboost import CatBoostClassifier\n",
    "\n",
    "# Input data files are available in the read-only \"../input/\" directory\n",
    "# For example, running this (by clicking run or pressing Shift+Enter) will list all files under the input directory\n",
    "\n",
    "import os\n",
    "for dirname, _, filenames in os.walk('/kaggle/input'):\n",
    "    for filename in filenames:\n",
    "        print(os.path.join(dirname, filename))\n",
    "\n",
    "# You can write up to 20GB to the current directory (/kaggle/working/) that gets preserved as output when you create a version using \"Save & Run All\" \n",
    "# You can also write temporary files to /kaggle/temp/, but they won't be saved outside of the current session"
   ]
  },
  {
   "cell_type": "code",
   "execution_count": 2,
   "id": "112fe899",
   "metadata": {
    "execution": {
     "iopub.execute_input": "2024-04-03T05:31:24.751377Z",
     "iopub.status.busy": "2024-04-03T05:31:24.750579Z",
     "iopub.status.idle": "2024-04-03T05:31:24.839438Z",
     "shell.execute_reply": "2024-04-03T05:31:24.838262Z"
    },
    "papermill": {
     "duration": 0.105279,
     "end_time": "2024-04-03T05:31:24.843862",
     "exception": false,
     "start_time": "2024-04-03T05:31:24.738583",
     "status": "completed"
    },
    "tags": []
   },
   "outputs": [
    {
     "data": {
      "text/html": [
       "<div>\n",
       "<style scoped>\n",
       "    .dataframe tbody tr th:only-of-type {\n",
       "        vertical-align: middle;\n",
       "    }\n",
       "\n",
       "    .dataframe tbody tr th {\n",
       "        vertical-align: top;\n",
       "    }\n",
       "\n",
       "    .dataframe thead th {\n",
       "        text-align: right;\n",
       "    }\n",
       "</style>\n",
       "<table border=\"1\" class=\"dataframe\">\n",
       "  <thead>\n",
       "    <tr style=\"text-align: right;\">\n",
       "      <th></th>\n",
       "      <th>id</th>\n",
       "      <th>diagnosis</th>\n",
       "      <th>radius_mean</th>\n",
       "      <th>texture_mean</th>\n",
       "      <th>perimeter_mean</th>\n",
       "      <th>area_mean</th>\n",
       "      <th>smoothness_mean</th>\n",
       "      <th>compactness_mean</th>\n",
       "      <th>concavity_mean</th>\n",
       "      <th>concave points_mean</th>\n",
       "      <th>...</th>\n",
       "      <th>texture_worst</th>\n",
       "      <th>perimeter_worst</th>\n",
       "      <th>area_worst</th>\n",
       "      <th>smoothness_worst</th>\n",
       "      <th>compactness_worst</th>\n",
       "      <th>concavity_worst</th>\n",
       "      <th>concave points_worst</th>\n",
       "      <th>symmetry_worst</th>\n",
       "      <th>fractal_dimension_worst</th>\n",
       "      <th>Unnamed: 32</th>\n",
       "    </tr>\n",
       "  </thead>\n",
       "  <tbody>\n",
       "    <tr>\n",
       "      <th>0</th>\n",
       "      <td>842302</td>\n",
       "      <td>M</td>\n",
       "      <td>17.99</td>\n",
       "      <td>10.38</td>\n",
       "      <td>122.80</td>\n",
       "      <td>1001.0</td>\n",
       "      <td>0.11840</td>\n",
       "      <td>0.27760</td>\n",
       "      <td>0.30010</td>\n",
       "      <td>0.14710</td>\n",
       "      <td>...</td>\n",
       "      <td>17.33</td>\n",
       "      <td>184.60</td>\n",
       "      <td>2019.0</td>\n",
       "      <td>0.16220</td>\n",
       "      <td>0.66560</td>\n",
       "      <td>0.7119</td>\n",
       "      <td>0.2654</td>\n",
       "      <td>0.4601</td>\n",
       "      <td>0.11890</td>\n",
       "      <td>NaN</td>\n",
       "    </tr>\n",
       "    <tr>\n",
       "      <th>1</th>\n",
       "      <td>842517</td>\n",
       "      <td>M</td>\n",
       "      <td>20.57</td>\n",
       "      <td>17.77</td>\n",
       "      <td>132.90</td>\n",
       "      <td>1326.0</td>\n",
       "      <td>0.08474</td>\n",
       "      <td>0.07864</td>\n",
       "      <td>0.08690</td>\n",
       "      <td>0.07017</td>\n",
       "      <td>...</td>\n",
       "      <td>23.41</td>\n",
       "      <td>158.80</td>\n",
       "      <td>1956.0</td>\n",
       "      <td>0.12380</td>\n",
       "      <td>0.18660</td>\n",
       "      <td>0.2416</td>\n",
       "      <td>0.1860</td>\n",
       "      <td>0.2750</td>\n",
       "      <td>0.08902</td>\n",
       "      <td>NaN</td>\n",
       "    </tr>\n",
       "    <tr>\n",
       "      <th>2</th>\n",
       "      <td>84300903</td>\n",
       "      <td>M</td>\n",
       "      <td>19.69</td>\n",
       "      <td>21.25</td>\n",
       "      <td>130.00</td>\n",
       "      <td>1203.0</td>\n",
       "      <td>0.10960</td>\n",
       "      <td>0.15990</td>\n",
       "      <td>0.19740</td>\n",
       "      <td>0.12790</td>\n",
       "      <td>...</td>\n",
       "      <td>25.53</td>\n",
       "      <td>152.50</td>\n",
       "      <td>1709.0</td>\n",
       "      <td>0.14440</td>\n",
       "      <td>0.42450</td>\n",
       "      <td>0.4504</td>\n",
       "      <td>0.2430</td>\n",
       "      <td>0.3613</td>\n",
       "      <td>0.08758</td>\n",
       "      <td>NaN</td>\n",
       "    </tr>\n",
       "    <tr>\n",
       "      <th>3</th>\n",
       "      <td>84348301</td>\n",
       "      <td>M</td>\n",
       "      <td>11.42</td>\n",
       "      <td>20.38</td>\n",
       "      <td>77.58</td>\n",
       "      <td>386.1</td>\n",
       "      <td>0.14250</td>\n",
       "      <td>0.28390</td>\n",
       "      <td>0.24140</td>\n",
       "      <td>0.10520</td>\n",
       "      <td>...</td>\n",
       "      <td>26.50</td>\n",
       "      <td>98.87</td>\n",
       "      <td>567.7</td>\n",
       "      <td>0.20980</td>\n",
       "      <td>0.86630</td>\n",
       "      <td>0.6869</td>\n",
       "      <td>0.2575</td>\n",
       "      <td>0.6638</td>\n",
       "      <td>0.17300</td>\n",
       "      <td>NaN</td>\n",
       "    </tr>\n",
       "    <tr>\n",
       "      <th>4</th>\n",
       "      <td>84358402</td>\n",
       "      <td>M</td>\n",
       "      <td>20.29</td>\n",
       "      <td>14.34</td>\n",
       "      <td>135.10</td>\n",
       "      <td>1297.0</td>\n",
       "      <td>0.10030</td>\n",
       "      <td>0.13280</td>\n",
       "      <td>0.19800</td>\n",
       "      <td>0.10430</td>\n",
       "      <td>...</td>\n",
       "      <td>16.67</td>\n",
       "      <td>152.20</td>\n",
       "      <td>1575.0</td>\n",
       "      <td>0.13740</td>\n",
       "      <td>0.20500</td>\n",
       "      <td>0.4000</td>\n",
       "      <td>0.1625</td>\n",
       "      <td>0.2364</td>\n",
       "      <td>0.07678</td>\n",
       "      <td>NaN</td>\n",
       "    </tr>\n",
       "    <tr>\n",
       "      <th>...</th>\n",
       "      <td>...</td>\n",
       "      <td>...</td>\n",
       "      <td>...</td>\n",
       "      <td>...</td>\n",
       "      <td>...</td>\n",
       "      <td>...</td>\n",
       "      <td>...</td>\n",
       "      <td>...</td>\n",
       "      <td>...</td>\n",
       "      <td>...</td>\n",
       "      <td>...</td>\n",
       "      <td>...</td>\n",
       "      <td>...</td>\n",
       "      <td>...</td>\n",
       "      <td>...</td>\n",
       "      <td>...</td>\n",
       "      <td>...</td>\n",
       "      <td>...</td>\n",
       "      <td>...</td>\n",
       "      <td>...</td>\n",
       "      <td>...</td>\n",
       "    </tr>\n",
       "    <tr>\n",
       "      <th>564</th>\n",
       "      <td>926424</td>\n",
       "      <td>M</td>\n",
       "      <td>21.56</td>\n",
       "      <td>22.39</td>\n",
       "      <td>142.00</td>\n",
       "      <td>1479.0</td>\n",
       "      <td>0.11100</td>\n",
       "      <td>0.11590</td>\n",
       "      <td>0.24390</td>\n",
       "      <td>0.13890</td>\n",
       "      <td>...</td>\n",
       "      <td>26.40</td>\n",
       "      <td>166.10</td>\n",
       "      <td>2027.0</td>\n",
       "      <td>0.14100</td>\n",
       "      <td>0.21130</td>\n",
       "      <td>0.4107</td>\n",
       "      <td>0.2216</td>\n",
       "      <td>0.2060</td>\n",
       "      <td>0.07115</td>\n",
       "      <td>NaN</td>\n",
       "    </tr>\n",
       "    <tr>\n",
       "      <th>565</th>\n",
       "      <td>926682</td>\n",
       "      <td>M</td>\n",
       "      <td>20.13</td>\n",
       "      <td>28.25</td>\n",
       "      <td>131.20</td>\n",
       "      <td>1261.0</td>\n",
       "      <td>0.09780</td>\n",
       "      <td>0.10340</td>\n",
       "      <td>0.14400</td>\n",
       "      <td>0.09791</td>\n",
       "      <td>...</td>\n",
       "      <td>38.25</td>\n",
       "      <td>155.00</td>\n",
       "      <td>1731.0</td>\n",
       "      <td>0.11660</td>\n",
       "      <td>0.19220</td>\n",
       "      <td>0.3215</td>\n",
       "      <td>0.1628</td>\n",
       "      <td>0.2572</td>\n",
       "      <td>0.06637</td>\n",
       "      <td>NaN</td>\n",
       "    </tr>\n",
       "    <tr>\n",
       "      <th>566</th>\n",
       "      <td>926954</td>\n",
       "      <td>M</td>\n",
       "      <td>16.60</td>\n",
       "      <td>28.08</td>\n",
       "      <td>108.30</td>\n",
       "      <td>858.1</td>\n",
       "      <td>0.08455</td>\n",
       "      <td>0.10230</td>\n",
       "      <td>0.09251</td>\n",
       "      <td>0.05302</td>\n",
       "      <td>...</td>\n",
       "      <td>34.12</td>\n",
       "      <td>126.70</td>\n",
       "      <td>1124.0</td>\n",
       "      <td>0.11390</td>\n",
       "      <td>0.30940</td>\n",
       "      <td>0.3403</td>\n",
       "      <td>0.1418</td>\n",
       "      <td>0.2218</td>\n",
       "      <td>0.07820</td>\n",
       "      <td>NaN</td>\n",
       "    </tr>\n",
       "    <tr>\n",
       "      <th>567</th>\n",
       "      <td>927241</td>\n",
       "      <td>M</td>\n",
       "      <td>20.60</td>\n",
       "      <td>29.33</td>\n",
       "      <td>140.10</td>\n",
       "      <td>1265.0</td>\n",
       "      <td>0.11780</td>\n",
       "      <td>0.27700</td>\n",
       "      <td>0.35140</td>\n",
       "      <td>0.15200</td>\n",
       "      <td>...</td>\n",
       "      <td>39.42</td>\n",
       "      <td>184.60</td>\n",
       "      <td>1821.0</td>\n",
       "      <td>0.16500</td>\n",
       "      <td>0.86810</td>\n",
       "      <td>0.9387</td>\n",
       "      <td>0.2650</td>\n",
       "      <td>0.4087</td>\n",
       "      <td>0.12400</td>\n",
       "      <td>NaN</td>\n",
       "    </tr>\n",
       "    <tr>\n",
       "      <th>568</th>\n",
       "      <td>92751</td>\n",
       "      <td>B</td>\n",
       "      <td>7.76</td>\n",
       "      <td>24.54</td>\n",
       "      <td>47.92</td>\n",
       "      <td>181.0</td>\n",
       "      <td>0.05263</td>\n",
       "      <td>0.04362</td>\n",
       "      <td>0.00000</td>\n",
       "      <td>0.00000</td>\n",
       "      <td>...</td>\n",
       "      <td>30.37</td>\n",
       "      <td>59.16</td>\n",
       "      <td>268.6</td>\n",
       "      <td>0.08996</td>\n",
       "      <td>0.06444</td>\n",
       "      <td>0.0000</td>\n",
       "      <td>0.0000</td>\n",
       "      <td>0.2871</td>\n",
       "      <td>0.07039</td>\n",
       "      <td>NaN</td>\n",
       "    </tr>\n",
       "  </tbody>\n",
       "</table>\n",
       "<p>569 rows × 33 columns</p>\n",
       "</div>"
      ],
      "text/plain": [
       "           id diagnosis  radius_mean  texture_mean  perimeter_mean  area_mean  \\\n",
       "0      842302         M        17.99         10.38          122.80     1001.0   \n",
       "1      842517         M        20.57         17.77          132.90     1326.0   \n",
       "2    84300903         M        19.69         21.25          130.00     1203.0   \n",
       "3    84348301         M        11.42         20.38           77.58      386.1   \n",
       "4    84358402         M        20.29         14.34          135.10     1297.0   \n",
       "..        ...       ...          ...           ...             ...        ...   \n",
       "564    926424         M        21.56         22.39          142.00     1479.0   \n",
       "565    926682         M        20.13         28.25          131.20     1261.0   \n",
       "566    926954         M        16.60         28.08          108.30      858.1   \n",
       "567    927241         M        20.60         29.33          140.10     1265.0   \n",
       "568     92751         B         7.76         24.54           47.92      181.0   \n",
       "\n",
       "     smoothness_mean  compactness_mean  concavity_mean  concave points_mean  \\\n",
       "0            0.11840           0.27760         0.30010              0.14710   \n",
       "1            0.08474           0.07864         0.08690              0.07017   \n",
       "2            0.10960           0.15990         0.19740              0.12790   \n",
       "3            0.14250           0.28390         0.24140              0.10520   \n",
       "4            0.10030           0.13280         0.19800              0.10430   \n",
       "..               ...               ...             ...                  ...   \n",
       "564          0.11100           0.11590         0.24390              0.13890   \n",
       "565          0.09780           0.10340         0.14400              0.09791   \n",
       "566          0.08455           0.10230         0.09251              0.05302   \n",
       "567          0.11780           0.27700         0.35140              0.15200   \n",
       "568          0.05263           0.04362         0.00000              0.00000   \n",
       "\n",
       "     ...  texture_worst  perimeter_worst  area_worst  smoothness_worst  \\\n",
       "0    ...          17.33           184.60      2019.0           0.16220   \n",
       "1    ...          23.41           158.80      1956.0           0.12380   \n",
       "2    ...          25.53           152.50      1709.0           0.14440   \n",
       "3    ...          26.50            98.87       567.7           0.20980   \n",
       "4    ...          16.67           152.20      1575.0           0.13740   \n",
       "..   ...            ...              ...         ...               ...   \n",
       "564  ...          26.40           166.10      2027.0           0.14100   \n",
       "565  ...          38.25           155.00      1731.0           0.11660   \n",
       "566  ...          34.12           126.70      1124.0           0.11390   \n",
       "567  ...          39.42           184.60      1821.0           0.16500   \n",
       "568  ...          30.37            59.16       268.6           0.08996   \n",
       "\n",
       "     compactness_worst  concavity_worst  concave points_worst  symmetry_worst  \\\n",
       "0              0.66560           0.7119                0.2654          0.4601   \n",
       "1              0.18660           0.2416                0.1860          0.2750   \n",
       "2              0.42450           0.4504                0.2430          0.3613   \n",
       "3              0.86630           0.6869                0.2575          0.6638   \n",
       "4              0.20500           0.4000                0.1625          0.2364   \n",
       "..                 ...              ...                   ...             ...   \n",
       "564            0.21130           0.4107                0.2216          0.2060   \n",
       "565            0.19220           0.3215                0.1628          0.2572   \n",
       "566            0.30940           0.3403                0.1418          0.2218   \n",
       "567            0.86810           0.9387                0.2650          0.4087   \n",
       "568            0.06444           0.0000                0.0000          0.2871   \n",
       "\n",
       "     fractal_dimension_worst  Unnamed: 32  \n",
       "0                    0.11890          NaN  \n",
       "1                    0.08902          NaN  \n",
       "2                    0.08758          NaN  \n",
       "3                    0.17300          NaN  \n",
       "4                    0.07678          NaN  \n",
       "..                       ...          ...  \n",
       "564                  0.07115          NaN  \n",
       "565                  0.06637          NaN  \n",
       "566                  0.07820          NaN  \n",
       "567                  0.12400          NaN  \n",
       "568                  0.07039          NaN  \n",
       "\n",
       "[569 rows x 33 columns]"
      ]
     },
     "execution_count": 2,
     "metadata": {},
     "output_type": "execute_result"
    }
   ],
   "source": [
    "df = pd.read_csv(\"/kaggle/input/breast-cancer-wisconsin-data/data.csv\")\n",
    "df"
   ]
  },
  {
   "cell_type": "code",
   "execution_count": 3,
   "id": "46d68b1c",
   "metadata": {
    "execution": {
     "iopub.execute_input": "2024-04-03T05:31:24.870572Z",
     "iopub.status.busy": "2024-04-03T05:31:24.869226Z",
     "iopub.status.idle": "2024-04-03T05:31:24.876554Z",
     "shell.execute_reply": "2024-04-03T05:31:24.875251Z"
    },
    "papermill": {
     "duration": 0.022351,
     "end_time": "2024-04-03T05:31:24.879183",
     "exception": false,
     "start_time": "2024-04-03T05:31:24.856832",
     "status": "completed"
    },
    "tags": []
   },
   "outputs": [
    {
     "data": {
      "text/plain": [
       "(569, 33)"
      ]
     },
     "execution_count": 3,
     "metadata": {},
     "output_type": "execute_result"
    }
   ],
   "source": [
    "df.shape"
   ]
  },
  {
   "cell_type": "code",
   "execution_count": 4,
   "id": "46fbc4a8",
   "metadata": {
    "execution": {
     "iopub.execute_input": "2024-04-03T05:31:24.903313Z",
     "iopub.status.busy": "2024-04-03T05:31:24.902851Z",
     "iopub.status.idle": "2024-04-03T05:31:24.929911Z",
     "shell.execute_reply": "2024-04-03T05:31:24.928787Z"
    },
    "papermill": {
     "duration": 0.043538,
     "end_time": "2024-04-03T05:31:24.933815",
     "exception": false,
     "start_time": "2024-04-03T05:31:24.890277",
     "status": "completed"
    },
    "tags": []
   },
   "outputs": [
    {
     "name": "stdout",
     "output_type": "stream",
     "text": [
      "<class 'pandas.core.frame.DataFrame'>\n",
      "RangeIndex: 569 entries, 0 to 568\n",
      "Data columns (total 33 columns):\n",
      " #   Column                   Non-Null Count  Dtype  \n",
      "---  ------                   --------------  -----  \n",
      " 0   id                       569 non-null    int64  \n",
      " 1   diagnosis                569 non-null    object \n",
      " 2   radius_mean              569 non-null    float64\n",
      " 3   texture_mean             569 non-null    float64\n",
      " 4   perimeter_mean           569 non-null    float64\n",
      " 5   area_mean                569 non-null    float64\n",
      " 6   smoothness_mean          569 non-null    float64\n",
      " 7   compactness_mean         569 non-null    float64\n",
      " 8   concavity_mean           569 non-null    float64\n",
      " 9   concave points_mean      569 non-null    float64\n",
      " 10  symmetry_mean            569 non-null    float64\n",
      " 11  fractal_dimension_mean   569 non-null    float64\n",
      " 12  radius_se                569 non-null    float64\n",
      " 13  texture_se               569 non-null    float64\n",
      " 14  perimeter_se             569 non-null    float64\n",
      " 15  area_se                  569 non-null    float64\n",
      " 16  smoothness_se            569 non-null    float64\n",
      " 17  compactness_se           569 non-null    float64\n",
      " 18  concavity_se             569 non-null    float64\n",
      " 19  concave points_se        569 non-null    float64\n",
      " 20  symmetry_se              569 non-null    float64\n",
      " 21  fractal_dimension_se     569 non-null    float64\n",
      " 22  radius_worst             569 non-null    float64\n",
      " 23  texture_worst            569 non-null    float64\n",
      " 24  perimeter_worst          569 non-null    float64\n",
      " 25  area_worst               569 non-null    float64\n",
      " 26  smoothness_worst         569 non-null    float64\n",
      " 27  compactness_worst        569 non-null    float64\n",
      " 28  concavity_worst          569 non-null    float64\n",
      " 29  concave points_worst     569 non-null    float64\n",
      " 30  symmetry_worst           569 non-null    float64\n",
      " 31  fractal_dimension_worst  569 non-null    float64\n",
      " 32  Unnamed: 32              0 non-null      float64\n",
      "dtypes: float64(31), int64(1), object(1)\n",
      "memory usage: 146.8+ KB\n"
     ]
    }
   ],
   "source": [
    "df.info()"
   ]
  },
  {
   "cell_type": "code",
   "execution_count": 5,
   "id": "8ecd93c9",
   "metadata": {
    "execution": {
     "iopub.execute_input": "2024-04-03T05:31:24.958539Z",
     "iopub.status.busy": "2024-04-03T05:31:24.958119Z",
     "iopub.status.idle": "2024-04-03T05:31:24.968439Z",
     "shell.execute_reply": "2024-04-03T05:31:24.967110Z"
    },
    "papermill": {
     "duration": 0.026499,
     "end_time": "2024-04-03T05:31:24.971646",
     "exception": false,
     "start_time": "2024-04-03T05:31:24.945147",
     "status": "completed"
    },
    "tags": []
   },
   "outputs": [
    {
     "data": {
      "text/plain": [
       "id                           0\n",
       "diagnosis                    0\n",
       "radius_mean                  0\n",
       "texture_mean                 0\n",
       "perimeter_mean               0\n",
       "area_mean                    0\n",
       "smoothness_mean              0\n",
       "compactness_mean             0\n",
       "concavity_mean               0\n",
       "concave points_mean          0\n",
       "symmetry_mean                0\n",
       "fractal_dimension_mean       0\n",
       "radius_se                    0\n",
       "texture_se                   0\n",
       "perimeter_se                 0\n",
       "area_se                      0\n",
       "smoothness_se                0\n",
       "compactness_se               0\n",
       "concavity_se                 0\n",
       "concave points_se            0\n",
       "symmetry_se                  0\n",
       "fractal_dimension_se         0\n",
       "radius_worst                 0\n",
       "texture_worst                0\n",
       "perimeter_worst              0\n",
       "area_worst                   0\n",
       "smoothness_worst             0\n",
       "compactness_worst            0\n",
       "concavity_worst              0\n",
       "concave points_worst         0\n",
       "symmetry_worst               0\n",
       "fractal_dimension_worst      0\n",
       "Unnamed: 32                569\n",
       "dtype: int64"
      ]
     },
     "execution_count": 5,
     "metadata": {},
     "output_type": "execute_result"
    }
   ],
   "source": [
    "df.isnull().sum()"
   ]
  },
  {
   "cell_type": "code",
   "execution_count": 6,
   "id": "0d6e106d",
   "metadata": {
    "execution": {
     "iopub.execute_input": "2024-04-03T05:31:24.995528Z",
     "iopub.status.busy": "2024-04-03T05:31:24.994991Z",
     "iopub.status.idle": "2024-04-03T05:31:25.003735Z",
     "shell.execute_reply": "2024-04-03T05:31:25.002351Z"
    },
    "papermill": {
     "duration": 0.024176,
     "end_time": "2024-04-03T05:31:25.006717",
     "exception": false,
     "start_time": "2024-04-03T05:31:24.982541",
     "status": "completed"
    },
    "tags": []
   },
   "outputs": [],
   "source": [
    "df.drop('Unnamed: 32',axis=1,inplace=True)"
   ]
  },
  {
   "cell_type": "code",
   "execution_count": 7,
   "id": "fd472753",
   "metadata": {
    "execution": {
     "iopub.execute_input": "2024-04-03T05:31:25.032080Z",
     "iopub.status.busy": "2024-04-03T05:31:25.031571Z",
     "iopub.status.idle": "2024-04-03T05:31:25.042703Z",
     "shell.execute_reply": "2024-04-03T05:31:25.041380Z"
    },
    "papermill": {
     "duration": 0.028055,
     "end_time": "2024-04-03T05:31:25.045679",
     "exception": false,
     "start_time": "2024-04-03T05:31:25.017624",
     "status": "completed"
    },
    "tags": []
   },
   "outputs": [
    {
     "data": {
      "text/plain": [
       "id                         0\n",
       "diagnosis                  0\n",
       "radius_mean                0\n",
       "texture_mean               0\n",
       "perimeter_mean             0\n",
       "area_mean                  0\n",
       "smoothness_mean            0\n",
       "compactness_mean           0\n",
       "concavity_mean             0\n",
       "concave points_mean        0\n",
       "symmetry_mean              0\n",
       "fractal_dimension_mean     0\n",
       "radius_se                  0\n",
       "texture_se                 0\n",
       "perimeter_se               0\n",
       "area_se                    0\n",
       "smoothness_se              0\n",
       "compactness_se             0\n",
       "concavity_se               0\n",
       "concave points_se          0\n",
       "symmetry_se                0\n",
       "fractal_dimension_se       0\n",
       "radius_worst               0\n",
       "texture_worst              0\n",
       "perimeter_worst            0\n",
       "area_worst                 0\n",
       "smoothness_worst           0\n",
       "compactness_worst          0\n",
       "concavity_worst            0\n",
       "concave points_worst       0\n",
       "symmetry_worst             0\n",
       "fractal_dimension_worst    0\n",
       "dtype: int64"
      ]
     },
     "execution_count": 7,
     "metadata": {},
     "output_type": "execute_result"
    }
   ],
   "source": [
    "df.isnull().sum()"
   ]
  },
  {
   "cell_type": "code",
   "execution_count": 8,
   "id": "f5628fbd",
   "metadata": {
    "execution": {
     "iopub.execute_input": "2024-04-03T05:31:25.071008Z",
     "iopub.status.busy": "2024-04-03T05:31:25.069907Z",
     "iopub.status.idle": "2024-04-03T05:31:25.080268Z",
     "shell.execute_reply": "2024-04-03T05:31:25.078807Z"
    },
    "papermill": {
     "duration": 0.02617,
     "end_time": "2024-04-03T05:31:25.082840",
     "exception": false,
     "start_time": "2024-04-03T05:31:25.056670",
     "status": "completed"
    },
    "tags": []
   },
   "outputs": [
    {
     "data": {
      "text/plain": [
       "Index(['id', 'radius_mean', 'texture_mean', 'perimeter_mean', 'area_mean',\n",
       "       'smoothness_mean', 'compactness_mean', 'concavity_mean',\n",
       "       'concave points_mean', 'symmetry_mean', 'fractal_dimension_mean',\n",
       "       'radius_se', 'texture_se', 'perimeter_se', 'area_se', 'smoothness_se',\n",
       "       'compactness_se', 'concavity_se', 'concave points_se', 'symmetry_se',\n",
       "       'fractal_dimension_se', 'radius_worst', 'texture_worst',\n",
       "       'perimeter_worst', 'area_worst', 'smoothness_worst',\n",
       "       'compactness_worst', 'concavity_worst', 'concave points_worst',\n",
       "       'symmetry_worst', 'fractal_dimension_worst'],\n",
       "      dtype='object')"
      ]
     },
     "execution_count": 8,
     "metadata": {},
     "output_type": "execute_result"
    }
   ],
   "source": [
    "numerical_cols = df.select_dtypes('number').columns\n",
    "numerical_cols"
   ]
  },
  {
   "cell_type": "code",
   "execution_count": 9,
   "id": "ae3c86dc",
   "metadata": {
    "execution": {
     "iopub.execute_input": "2024-04-03T05:31:25.108148Z",
     "iopub.status.busy": "2024-04-03T05:31:25.106893Z",
     "iopub.status.idle": "2024-04-03T05:31:25.116775Z",
     "shell.execute_reply": "2024-04-03T05:31:25.115336Z"
    },
    "papermill": {
     "duration": 0.025069,
     "end_time": "2024-04-03T05:31:25.119196",
     "exception": false,
     "start_time": "2024-04-03T05:31:25.094127",
     "status": "completed"
    },
    "tags": []
   },
   "outputs": [
    {
     "data": {
      "text/plain": [
       "Index(['diagnosis'], dtype='object')"
      ]
     },
     "execution_count": 9,
     "metadata": {},
     "output_type": "execute_result"
    }
   ],
   "source": [
    "categorical_cols = df.select_dtypes('object').columns\n",
    "categorical_cols"
   ]
  },
  {
   "cell_type": "code",
   "execution_count": 10,
   "id": "60e6db7f",
   "metadata": {
    "execution": {
     "iopub.execute_input": "2024-04-03T05:31:25.144292Z",
     "iopub.status.busy": "2024-04-03T05:31:25.143643Z",
     "iopub.status.idle": "2024-04-03T05:31:25.352632Z",
     "shell.execute_reply": "2024-04-03T05:31:25.350754Z"
    },
    "papermill": {
     "duration": 0.226552,
     "end_time": "2024-04-03T05:31:25.356986",
     "exception": false,
     "start_time": "2024-04-03T05:31:25.130434",
     "status": "completed"
    },
    "tags": []
   },
   "outputs": [
    {
     "data": {
      "image/png": "[encoded data removed]",
      "text/plain": [
       "<Figure size 600x600 with 1 Axes>"
      ]
     },
     "metadata": {},
     "output_type": "display_data"
    }
   ],
   "source": [
    "x = df['diagnosis'].value_counts()\n",
    "plt.figure(figsize=(6,6))\n",
    "plt.pie(x, labels=x.index, autopct='%1.1f%%', startangle=140, colors=['m','b'])\n",
    "plt.title('Distribution of Cancer Diagnosis')\n",
    "plt.show()"
   ]
  },
  {
   "cell_type": "markdown",
   "id": "33e1254f",
   "metadata": {
    "papermill": {
     "duration": 0.011768,
     "end_time": "2024-04-03T05:31:25.396113",
     "exception": false,
     "start_time": "2024-04-03T05:31:25.384345",
     "status": "completed"
    },
    "tags": []
   },
   "source": [
    "### Feature Engineering"
   ]
  },
  {
   "cell_type": "code",
   "execution_count": 11,
   "id": "846d4fc7",
   "metadata": {
    "execution": {
     "iopub.execute_input": "2024-04-03T05:31:25.422774Z",
     "iopub.status.busy": "2024-04-03T05:31:25.422324Z",
     "iopub.status.idle": "2024-04-03T05:31:25.429459Z",
     "shell.execute_reply": "2024-04-03T05:31:25.428349Z"
    },
    "papermill": {
     "duration": 0.023254,
     "end_time": "2024-04-03T05:31:25.431873",
     "exception": false,
     "start_time": "2024-04-03T05:31:25.408619",
     "status": "completed"
    },
    "tags": []
   },
   "outputs": [],
   "source": [
    "df=df.drop(\"id\",axis=1)"
   ]
  },
  {
   "cell_type": "code",
   "execution_count": 12,
   "id": "1445a05a",
   "metadata": {
    "execution": {
     "iopub.execute_input": "2024-04-03T05:31:25.458069Z",
     "iopub.status.busy": "2024-04-03T05:31:25.457532Z",
     "iopub.status.idle": "2024-04-03T05:31:25.465304Z",
     "shell.execute_reply": "2024-04-03T05:31:25.464283Z"
    },
    "papermill": {
     "duration": 0.023801,
     "end_time": "2024-04-03T05:31:25.467566",
     "exception": false,
     "start_time": "2024-04-03T05:31:25.443765",
     "status": "completed"
    },
    "tags": []
   },
   "outputs": [
    {
     "data": {
      "text/plain": [
       "(569, 31)"
      ]
     },
     "execution_count": 12,
     "metadata": {},
     "output_type": "execute_result"
    }
   ],
   "source": [
    "df.shape"
   ]
  },
  {
   "cell_type": "markdown",
   "id": "1e7fa1ce",
   "metadata": {
    "papermill": {
     "duration": 0.011549,
     "end_time": "2024-04-03T05:31:25.490849",
     "exception": false,
     "start_time": "2024-04-03T05:31:25.479300",
     "status": "completed"
    },
    "tags": []
   },
   "source": [
    "### Divide data"
   ]
  },
  {
   "cell_type": "code",
   "execution_count": 13,
   "id": "83a8ad01",
   "metadata": {
    "execution": {
     "iopub.execute_input": "2024-04-03T05:31:25.517608Z",
     "iopub.status.busy": "2024-04-03T05:31:25.517114Z",
     "iopub.status.idle": "2024-04-03T05:31:25.523704Z",
     "shell.execute_reply": "2024-04-03T05:31:25.522610Z"
    },
    "papermill": {
     "duration": 0.023361,
     "end_time": "2024-04-03T05:31:25.526141",
     "exception": false,
     "start_time": "2024-04-03T05:31:25.502780",
     "status": "completed"
    },
    "tags": []
   },
   "outputs": [],
   "source": [
    "X = df.drop('diagnosis',axis=1)\n",
    "y = df['diagnosis']"
   ]
  },
  {
   "cell_type": "code",
   "execution_count": 14,
   "id": "426f6b5f",
   "metadata": {
    "execution": {
     "iopub.execute_input": "2024-04-03T05:31:25.553301Z",
     "iopub.status.busy": "2024-04-03T05:31:25.552495Z",
     "iopub.status.idle": "2024-04-03T05:31:25.566068Z",
     "shell.execute_reply": "2024-04-03T05:31:25.564748Z"
    },
    "papermill": {
     "duration": 0.030556,
     "end_time": "2024-04-03T05:31:25.568784",
     "exception": false,
     "start_time": "2024-04-03T05:31:25.538228",
     "status": "completed"
    },
    "tags": []
   },
   "outputs": [
    {
     "data": {
      "text/plain": [
       "(569, 30)"
      ]
     },
     "execution_count": 14,
     "metadata": {},
     "output_type": "execute_result"
    }
   ],
   "source": [
    "from sklearn.preprocessing import StandardScaler\n",
    "# Standardize the features\n",
    "scaler = StandardScaler()\n",
    "X_scaled = scaler.fit_transform(X)\n",
    "X_scaled.shape"
   ]
  },
  {
   "cell_type": "code",
   "execution_count": 15,
   "id": "315d7e78",
   "metadata": {
    "execution": {
     "iopub.execute_input": "2024-04-03T05:31:25.596769Z",
     "iopub.status.busy": "2024-04-03T05:31:25.596254Z",
     "iopub.status.idle": "2024-04-03T05:31:25.625967Z",
     "shell.execute_reply": "2024-04-03T05:31:25.624553Z"
    },
    "papermill": {
     "duration": 0.047383,
     "end_time": "2024-04-03T05:31:25.628980",
     "exception": false,
     "start_time": "2024-04-03T05:31:25.581597",
     "status": "completed"
    },
    "tags": []
   },
   "outputs": [
    {
     "data": {
      "text/plain": [
       "(569, 2)"
      ]
     },
     "execution_count": 15,
     "metadata": {},
     "output_type": "execute_result"
    }
   ],
   "source": [
    "# Apply PCA\n",
    "pca = PCA(n_components=2)  # Specify the number of components to retain--could be two or three---depends\n",
    "X_pca = pca.fit_transform(X_scaled)\n",
    "X_pca.shape"
   ]
  },
  {
   "cell_type": "code",
   "execution_count": 16,
   "id": "a8a36320",
   "metadata": {
    "execution": {
     "iopub.execute_input": "2024-04-03T05:31:25.655370Z",
     "iopub.status.busy": "2024-04-03T05:31:25.654838Z",
     "iopub.status.idle": "2024-04-03T05:31:25.669611Z",
     "shell.execute_reply": "2024-04-03T05:31:25.668206Z"
    },
    "papermill": {
     "duration": 0.030996,
     "end_time": "2024-04-03T05:31:25.672137",
     "exception": false,
     "start_time": "2024-04-03T05:31:25.641141",
     "status": "completed"
    },
    "tags": []
   },
   "outputs": [
    {
     "data": {
      "text/html": [
       "<div>\n",
       "<style scoped>\n",
       "    .dataframe tbody tr th:only-of-type {\n",
       "        vertical-align: middle;\n",
       "    }\n",
       "\n",
       "    .dataframe tbody tr th {\n",
       "        vertical-align: top;\n",
       "    }\n",
       "\n",
       "    .dataframe thead th {\n",
       "        text-align: right;\n",
       "    }\n",
       "</style>\n",
       "<table border=\"1\" class=\"dataframe\">\n",
       "  <thead>\n",
       "    <tr style=\"text-align: right;\">\n",
       "      <th></th>\n",
       "      <th>Principal component</th>\n",
       "      <th>variance</th>\n",
       "    </tr>\n",
       "  </thead>\n",
       "  <tbody>\n",
       "    <tr>\n",
       "      <th>0</th>\n",
       "      <td>PC1</td>\n",
       "      <td>0.442720</td>\n",
       "    </tr>\n",
       "    <tr>\n",
       "      <th>1</th>\n",
       "      <td>PC2</td>\n",
       "      <td>0.632432</td>\n",
       "    </tr>\n",
       "  </tbody>\n",
       "</table>\n",
       "</div>"
      ],
      "text/plain": [
       "  Principal component  variance\n",
       "0                 PC1  0.442720\n",
       "1                 PC2  0.632432"
      ]
     },
     "execution_count": 16,
     "metadata": {},
     "output_type": "execute_result"
    }
   ],
   "source": [
    "# Create DataFrame with the correct number of components\n",
    "df_pca = pd.DataFrame({\"Principal component\": [\"PC\" + str(i) for i in range(1, pca.n_components_ + 1)],\n",
    "                       \"variance\": np.cumsum(pca.explained_variance_ratio_)})\n",
    "df_pca"
   ]
  },
  {
   "cell_type": "code",
   "execution_count": 17,
   "id": "656d53cf",
   "metadata": {
    "execution": {
     "iopub.execute_input": "2024-04-03T05:31:25.699221Z",
     "iopub.status.busy": "2024-04-03T05:31:25.698496Z",
     "iopub.status.idle": "2024-04-03T05:31:25.706802Z",
     "shell.execute_reply": "2024-04-03T05:31:25.705371Z"
    },
    "papermill": {
     "duration": 0.024986,
     "end_time": "2024-04-03T05:31:25.709303",
     "exception": false,
     "start_time": "2024-04-03T05:31:25.684317",
     "status": "completed"
    },
    "tags": []
   },
   "outputs": [],
   "source": [
    "# Create a DataFrame for visualization\n",
    "pca_df = pd.DataFrame(X_pca, columns=['PC1', 'PC2'])\n",
    "pca_df['Diagnosis'] = y  # Add the diagnosis labels"
   ]
  },
  {
   "cell_type": "code",
   "execution_count": 18,
   "id": "7a16b5af",
   "metadata": {
    "execution": {
     "iopub.execute_input": "2024-04-03T05:31:25.735984Z",
     "iopub.status.busy": "2024-04-03T05:31:25.735450Z",
     "iopub.status.idle": "2024-04-03T05:31:26.189728Z",
     "shell.execute_reply": "2024-04-03T05:31:26.188093Z"
    },
    "papermill": {
     "duration": 0.471463,
     "end_time": "2024-04-03T05:31:26.192906",
     "exception": false,
     "start_time": "2024-04-03T05:31:25.721443",
     "status": "completed"
    },
    "tags": []
   },
   "outputs": [
    {
     "data": {
      "image/png": "[encoded data removed]",
      "text/plain": [
       "<Figure size 1000x600 with 1 Axes>"
      ]
     },
     "metadata": {},
     "output_type": "display_data"
    }
   ],
   "source": [
    "# Visualization of PCA\n",
    "plt.figure(figsize=(10, 6))\n",
    "sns.scatterplot(x=X_pca[:, 0], y=X_pca[:, 1], hue=df['diagnosis'], palette='coolwarm')\n",
    "plt.title('PCA Visualization of Breast Cancer Wisconsin Dataset')\n",
    "plt.xlabel('Principal Component 1')\n",
    "plt.ylabel('Principal Component 2')\n",
    "plt.legend(title='Diagnosis', loc='upper right')\n",
    "plt.show()"
   ]
  },
  {
   "cell_type": "code",
   "execution_count": 19,
   "id": "4e8b791a",
   "metadata": {
    "execution": {
     "iopub.execute_input": "2024-04-03T05:31:26.226191Z",
     "iopub.status.busy": "2024-04-03T05:31:26.225484Z",
     "iopub.status.idle": "2024-04-03T05:31:26.231505Z",
     "shell.execute_reply": "2024-04-03T05:31:26.230653Z"
    },
    "papermill": {
     "duration": 0.025283,
     "end_time": "2024-04-03T05:31:26.233893",
     "exception": false,
     "start_time": "2024-04-03T05:31:26.208610",
     "status": "completed"
    },
    "tags": []
   },
   "outputs": [
    {
     "data": {
      "text/plain": [
       "2"
      ]
     },
     "execution_count": 19,
     "metadata": {},
     "output_type": "execute_result"
    }
   ],
   "source": [
    "# Determine the number of components returned by PCA\n",
    "n_components = pca.n_components_\n",
    "n_components"
   ]
  },
  {
   "cell_type": "code",
   "execution_count": 20,
   "id": "ea6e6a8c",
   "metadata": {
    "execution": {
     "iopub.execute_input": "2024-04-03T05:31:26.266178Z",
     "iopub.status.busy": "2024-04-03T05:31:26.265289Z",
     "iopub.status.idle": "2024-04-03T05:31:26.272490Z",
     "shell.execute_reply": "2024-04-03T05:31:26.271334Z"
    },
    "papermill": {
     "duration": 0.026282,
     "end_time": "2024-04-03T05:31:26.275028",
     "exception": false,
     "start_time": "2024-04-03T05:31:26.248746",
     "status": "completed"
    },
    "tags": []
   },
   "outputs": [
    {
     "name": "stdout",
     "output_type": "stream",
     "text": [
      "diagnosis\n",
      "B    357\n",
      "M    212\n",
      "Name: count, dtype: int64\n"
     ]
    }
   ],
   "source": [
    "categories = df['diagnosis'].value_counts()\n",
    "print(categories)"
   ]
  },
  {
   "cell_type": "code",
   "execution_count": 21,
   "id": "310cb446",
   "metadata": {
    "execution": {
     "iopub.execute_input": "2024-04-03T05:31:26.308083Z",
     "iopub.status.busy": "2024-04-03T05:31:26.306793Z",
     "iopub.status.idle": "2024-04-03T05:31:26.530856Z",
     "shell.execute_reply": "2024-04-03T05:31:26.529639Z"
    },
    "papermill": {
     "duration": 0.244057,
     "end_time": "2024-04-03T05:31:26.534096",
     "exception": false,
     "start_time": "2024-04-03T05:31:26.290039",
     "status": "completed"
    },
    "tags": []
   },
   "outputs": [
    {
     "data": {
      "image/png": "[encoded data removed]",
      "text/plain": [
       "<Figure size 640x480 with 1 Axes>"
      ]
     },
     "metadata": {},
     "output_type": "display_data"
    }
   ],
   "source": [
    "# visualization of PCA\n",
    "sns.barplot(x=\"Principal component\",y=\"variance\",data=df_pca,color=\"m\")\n",
    "plt.ylabel(\"Variance Explained\")\n",
    "plt.xlabel(\"Principle Components\")\n",
    "plt.show()"
   ]
  },
  {
   "cell_type": "code",
   "execution_count": 22,
   "id": "42174818",
   "metadata": {
    "execution": {
     "iopub.execute_input": "2024-04-03T05:31:26.567267Z",
     "iopub.status.busy": "2024-04-03T05:31:26.566841Z",
     "iopub.status.idle": "2024-04-03T05:31:26.572131Z",
     "shell.execute_reply": "2024-04-03T05:31:26.571210Z"
    },
    "papermill": {
     "duration": 0.02471,
     "end_time": "2024-04-03T05:31:26.574395",
     "exception": false,
     "start_time": "2024-04-03T05:31:26.549685",
     "status": "completed"
    },
    "tags": []
   },
   "outputs": [],
   "source": [
    "# 'M' and 'B' are the only categories in the diagnosis column\n",
    "from sklearn.preprocessing import LabelEncoder\n",
    "\n",
    "# Encode the 'diagnosis' column\n",
    "label_encoder = LabelEncoder()\n",
    "y_encoded = label_encoder.fit_transform(y)"
   ]
  },
  {
   "cell_type": "code",
   "execution_count": 23,
   "id": "a8537fc8",
   "metadata": {
    "execution": {
     "iopub.execute_input": "2024-04-03T05:31:26.608236Z",
     "iopub.status.busy": "2024-04-03T05:31:26.607761Z",
     "iopub.status.idle": "2024-04-03T05:31:26.614295Z",
     "shell.execute_reply": "2024-04-03T05:31:26.612460Z"
    },
    "papermill": {
     "duration": 0.027218,
     "end_time": "2024-04-03T05:31:26.617630",
     "exception": false,
     "start_time": "2024-04-03T05:31:26.590412",
     "status": "completed"
    },
    "tags": []
   },
   "outputs": [
    {
     "name": "stdout",
     "output_type": "stream",
     "text": [
      "Explained Variance Ratio: [0.44272026 0.18971182]\n"
     ]
    }
   ],
   "source": [
    "# Explained variance ratio for each principal component\n",
    "explained_variance_ratio = pca.explained_variance_ratio_\n",
    "print(\"Explained Variance Ratio:\", explained_variance_ratio)"
   ]
  },
  {
   "cell_type": "code",
   "execution_count": 24,
   "id": "c7ed78cf",
   "metadata": {
    "execution": {
     "iopub.execute_input": "2024-04-03T05:31:26.650531Z",
     "iopub.status.busy": "2024-04-03T05:31:26.650079Z",
     "iopub.status.idle": "2024-04-03T05:31:27.004642Z",
     "shell.execute_reply": "2024-04-03T05:31:27.003385Z"
    },
    "papermill": {
     "duration": 0.374779,
     "end_time": "2024-04-03T05:31:27.007900",
     "exception": false,
     "start_time": "2024-04-03T05:31:26.633121",
     "status": "completed"
    },
    "tags": []
   },
   "outputs": [
    {
     "data": {
      "image/png": "[encoded data removed]",
      "text/plain": [
       "<Figure size 640x480 with 1 Axes>"
      ]
     },
     "metadata": {},
     "output_type": "display_data"
    }
   ],
   "source": [
    "from sklearn.decomposition import PCA\n",
    "\n",
    "pca = PCA().fit(X_scaled)\n",
    "pca_fit = pca.transform(X_scaled)\n",
    "\n",
    "# Plot explained variance ratio\n",
    "plt.plot(np.cumsum(pca.explained_variance_ratio_))\n",
    "plt.xlabel(\"Number of Components\")\n",
    "plt.ylabel(\"Cumulative Explained Variance\")\n",
    "plt.show()"
   ]
  },
  {
   "cell_type": "code",
   "execution_count": 25,
   "id": "c3b62c8e",
   "metadata": {
    "execution": {
     "iopub.execute_input": "2024-04-03T05:31:27.043123Z",
     "iopub.status.busy": "2024-04-03T05:31:27.042666Z",
     "iopub.status.idle": "2024-04-03T05:31:27.050237Z",
     "shell.execute_reply": "2024-04-03T05:31:27.049013Z"
    },
    "papermill": {
     "duration": 0.028425,
     "end_time": "2024-04-03T05:31:27.052937",
     "exception": false,
     "start_time": "2024-04-03T05:31:27.024512",
     "status": "completed"
    },
    "tags": []
   },
   "outputs": [
    {
     "data": {
      "text/plain": [
       "array([[ 9.19283683,  1.94858307],\n",
       "       [ 2.3878018 , -3.76817174],\n",
       "       [ 5.73389628, -1.0751738 ],\n",
       "       ...,\n",
       "       [ 1.25617928, -1.90229671],\n",
       "       [10.37479406,  1.6720101 ],\n",
       "       [-5.4752433 , -0.67063679]])"
      ]
     },
     "execution_count": 25,
     "metadata": {},
     "output_type": "execute_result"
    }
   ],
   "source": [
    "X_pca"
   ]
  },
  {
   "cell_type": "code",
   "execution_count": 26,
   "id": "a655a53c",
   "metadata": {
    "execution": {
     "iopub.execute_input": "2024-04-03T05:31:27.087603Z",
     "iopub.status.busy": "2024-04-03T05:31:27.086941Z",
     "iopub.status.idle": "2024-04-03T05:31:27.098830Z",
     "shell.execute_reply": "2024-04-03T05:31:27.096384Z"
    },
    "papermill": {
     "duration": 0.03304,
     "end_time": "2024-04-03T05:31:27.102065",
     "exception": false,
     "start_time": "2024-04-03T05:31:27.069025",
     "status": "completed"
    },
    "tags": []
   },
   "outputs": [
    {
     "name": "stdout",
     "output_type": "stream",
     "text": [
      "PCA-transformed numerical columns with diagnosis:/n\n",
      "        PC1        PC2 diagnosis\n",
      "0  9.192837   1.948583         M\n",
      "1  2.387802  -3.768172         M\n",
      "2  5.733896  -1.075174         M\n",
      "3  7.122953  10.275589         M\n",
      "4  3.935302  -1.948072         M\n",
      "5  2.380247   3.949929         M\n",
      "6  2.238883  -2.690031         M\n",
      "7  2.143299   2.340244         M\n",
      "8  3.174924   3.391813         M\n",
      "9  6.351747   7.727174         M\n"
     ]
    }
   ],
   "source": [
    "# Create DataFrame with the correct number of components\n",
    "pca_df = pd.DataFrame(X_pca, columns=[f\"PC{i+1}\" for i in range(X_pca.shape[1])])\n",
    "\n",
    "# Add the 'diagnosis' column to the DataFrame\n",
    "pca_df['diagnosis'] = df['diagnosis']\n",
    "\n",
    "# Display the first few rows of the PCA-transformed numerical columns with the 'diagnosis' column\n",
    "print(\"PCA-transformed numerical columns with diagnosis:/n\")\n",
    "print(pca_df.head(10))"
   ]
  }
 ],
 "metadata": {
  "kaggle": {
   "accelerator": "none",
   "dataSources": [
    {
     "datasetId": 180,
     "sourceId": 408,
     "sourceType": "datasetVersion"
    }
   ],
   "dockerImageVersionId": 30673,
   "isGpuEnabled": false,
   "isInternetEnabled": true,
   "language": "python",
   "sourceType": "notebook"
  },
  "kernelspec": {
   "display_name": "Python 3",
   "language": "python",
   "name": "python3"
  },
  "language_info": {
   "codemirror_mode": {
    "name": "ipython",
    "version": 3
   },
   "file_extension": ".py",
   "mimetype": "text/x-python",
   "name": "python",
   "nbconvert_exporter": "python",
   "pygments_lexer": "ipython3",
   "version": "3.10.13"
  },
  "papermill": {
   "default_parameters": {},
   "duration": 12.027522,
   "end_time": "2024-04-03T05:31:28.042674",
   "environment_variables": {},
   "exception": null,
   "input_path": "__notebook__.ipynb",
   "output_path": "__notebook__.ipynb",
   "parameters": {},
   "start_time": "2024-04-03T05:31:16.015152",
   "version": "2.5.0"
  }
 },
 "nbformat": 4,
 "nbformat_minor": 5
}
